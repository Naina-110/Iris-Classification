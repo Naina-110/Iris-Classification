{
  "nbformat": 4,
  "nbformat_minor": 0,
  "metadata": {
    "colab": {
      "provenance": []
    },
    "kernelspec": {
      "name": "python3",
      "display_name": "Python 3"
    },
    "language_info": {
      "name": "python"
    }
  },
  "cells": [
    {
      "cell_type": "code",
      "source": [
        "import tensorflow as tf\n",
        "from tensorflow.keras import layers\n",
        "import pandas as pd\n",
        "import numpy as np\n",
        "from tensorflow.keras import datasets, layers, models\n",
        "from tensorflow.keras.utils import to_categorical"
      ],
      "metadata": {
        "id": "TPxMpm1JvjUq"
      },
      "execution_count": 148,
      "outputs": []
    },
    {
      "cell_type": "code",
      "source": [
        "df = pd.read_csv('Iris.csv')\n",
        "df.head()"
      ],
      "metadata": {
        "colab": {
          "base_uri": "https://localhost:8080/",
          "height": 206
        },
        "id": "WsNOGBFFvlNP",
        "outputId": "d7d67075-999c-4fde-abf9-bedfc6c26f4c"
      },
      "execution_count": 149,
      "outputs": [
        {
          "output_type": "execute_result",
          "data": {
            "text/plain": [
              "   Id  SepalLengthCm  SepalWidthCm  PetalLengthCm  PetalWidthCm      Species\n",
              "0   1            5.1           3.5            1.4           0.2  Iris-setosa\n",
              "1   2            4.9           3.0            1.4           0.2  Iris-setosa\n",
              "2   3            4.7           3.2            1.3           0.2  Iris-setosa\n",
              "3   4            4.6           3.1            1.5           0.2  Iris-setosa\n",
              "4   5            5.0           3.6            1.4           0.2  Iris-setosa"
            ],
            "text/html": [
              "\n",
              "  <div id=\"df-66894bc7-042c-4971-a7d7-12ba10ae3dff\" class=\"colab-df-container\">\n",
              "    <div>\n",
              "<style scoped>\n",
              "    .dataframe tbody tr th:only-of-type {\n",
              "        vertical-align: middle;\n",
              "    }\n",
              "\n",
              "    .dataframe tbody tr th {\n",
              "        vertical-align: top;\n",
              "    }\n",
              "\n",
              "    .dataframe thead th {\n",
              "        text-align: right;\n",
              "    }\n",
              "</style>\n",
              "<table border=\"1\" class=\"dataframe\">\n",
              "  <thead>\n",
              "    <tr style=\"text-align: right;\">\n",
              "      <th></th>\n",
              "      <th>Id</th>\n",
              "      <th>SepalLengthCm</th>\n",
              "      <th>SepalWidthCm</th>\n",
              "      <th>PetalLengthCm</th>\n",
              "      <th>PetalWidthCm</th>\n",
              "      <th>Species</th>\n",
              "    </tr>\n",
              "  </thead>\n",
              "  <tbody>\n",
              "    <tr>\n",
              "      <th>0</th>\n",
              "      <td>1</td>\n",
              "      <td>5.1</td>\n",
              "      <td>3.5</td>\n",
              "      <td>1.4</td>\n",
              "      <td>0.2</td>\n",
              "      <td>Iris-setosa</td>\n",
              "    </tr>\n",
              "    <tr>\n",
              "      <th>1</th>\n",
              "      <td>2</td>\n",
              "      <td>4.9</td>\n",
              "      <td>3.0</td>\n",
              "      <td>1.4</td>\n",
              "      <td>0.2</td>\n",
              "      <td>Iris-setosa</td>\n",
              "    </tr>\n",
              "    <tr>\n",
              "      <th>2</th>\n",
              "      <td>3</td>\n",
              "      <td>4.7</td>\n",
              "      <td>3.2</td>\n",
              "      <td>1.3</td>\n",
              "      <td>0.2</td>\n",
              "      <td>Iris-setosa</td>\n",
              "    </tr>\n",
              "    <tr>\n",
              "      <th>3</th>\n",
              "      <td>4</td>\n",
              "      <td>4.6</td>\n",
              "      <td>3.1</td>\n",
              "      <td>1.5</td>\n",
              "      <td>0.2</td>\n",
              "      <td>Iris-setosa</td>\n",
              "    </tr>\n",
              "    <tr>\n",
              "      <th>4</th>\n",
              "      <td>5</td>\n",
              "      <td>5.0</td>\n",
              "      <td>3.6</td>\n",
              "      <td>1.4</td>\n",
              "      <td>0.2</td>\n",
              "      <td>Iris-setosa</td>\n",
              "    </tr>\n",
              "  </tbody>\n",
              "</table>\n",
              "</div>\n",
              "    <div class=\"colab-df-buttons\">\n",
              "\n",
              "  <div class=\"colab-df-container\">\n",
              "    <button class=\"colab-df-convert\" onclick=\"convertToInteractive('df-66894bc7-042c-4971-a7d7-12ba10ae3dff')\"\n",
              "            title=\"Convert this dataframe to an interactive table.\"\n",
              "            style=\"display:none;\">\n",
              "\n",
              "  <svg xmlns=\"http://www.w3.org/2000/svg\" height=\"24px\" viewBox=\"0 -960 960 960\">\n",
              "    <path d=\"M120-120v-720h720v720H120Zm60-500h600v-160H180v160Zm220 220h160v-160H400v160Zm0 220h160v-160H400v160ZM180-400h160v-160H180v160Zm440 0h160v-160H620v160ZM180-180h160v-160H180v160Zm440 0h160v-160H620v160Z\"/>\n",
              "  </svg>\n",
              "    </button>\n",
              "\n",
              "  <style>\n",
              "    .colab-df-container {\n",
              "      display:flex;\n",
              "      gap: 12px;\n",
              "    }\n",
              "\n",
              "    .colab-df-convert {\n",
              "      background-color: #E8F0FE;\n",
              "      border: none;\n",
              "      border-radius: 50%;\n",
              "      cursor: pointer;\n",
              "      display: none;\n",
              "      fill: #1967D2;\n",
              "      height: 32px;\n",
              "      padding: 0 0 0 0;\n",
              "      width: 32px;\n",
              "    }\n",
              "\n",
              "    .colab-df-convert:hover {\n",
              "      background-color: #E2EBFA;\n",
              "      box-shadow: 0px 1px 2px rgba(60, 64, 67, 0.3), 0px 1px 3px 1px rgba(60, 64, 67, 0.15);\n",
              "      fill: #174EA6;\n",
              "    }\n",
              "\n",
              "    .colab-df-buttons div {\n",
              "      margin-bottom: 4px;\n",
              "    }\n",
              "\n",
              "    [theme=dark] .colab-df-convert {\n",
              "      background-color: #3B4455;\n",
              "      fill: #D2E3FC;\n",
              "    }\n",
              "\n",
              "    [theme=dark] .colab-df-convert:hover {\n",
              "      background-color: #434B5C;\n",
              "      box-shadow: 0px 1px 3px 1px rgba(0, 0, 0, 0.15);\n",
              "      filter: drop-shadow(0px 1px 2px rgba(0, 0, 0, 0.3));\n",
              "      fill: #FFFFFF;\n",
              "    }\n",
              "  </style>\n",
              "\n",
              "    <script>\n",
              "      const buttonEl =\n",
              "        document.querySelector('#df-66894bc7-042c-4971-a7d7-12ba10ae3dff button.colab-df-convert');\n",
              "      buttonEl.style.display =\n",
              "        google.colab.kernel.accessAllowed ? 'block' : 'none';\n",
              "\n",
              "      async function convertToInteractive(key) {\n",
              "        const element = document.querySelector('#df-66894bc7-042c-4971-a7d7-12ba10ae3dff');\n",
              "        const dataTable =\n",
              "          await google.colab.kernel.invokeFunction('convertToInteractive',\n",
              "                                                    [key], {});\n",
              "        if (!dataTable) return;\n",
              "\n",
              "        const docLinkHtml = 'Like what you see? Visit the ' +\n",
              "          '<a target=\"_blank\" href=https://colab.research.google.com/notebooks/data_table.ipynb>data table notebook</a>'\n",
              "          + ' to learn more about interactive tables.';\n",
              "        element.innerHTML = '';\n",
              "        dataTable['output_type'] = 'display_data';\n",
              "        await google.colab.output.renderOutput(dataTable, element);\n",
              "        const docLink = document.createElement('div');\n",
              "        docLink.innerHTML = docLinkHtml;\n",
              "        element.appendChild(docLink);\n",
              "      }\n",
              "    </script>\n",
              "  </div>\n",
              "\n",
              "\n",
              "<div id=\"df-1d663a1e-43eb-4ef2-b7ec-9b73521871b6\">\n",
              "  <button class=\"colab-df-quickchart\" onclick=\"quickchart('df-1d663a1e-43eb-4ef2-b7ec-9b73521871b6')\"\n",
              "            title=\"Suggest charts\"\n",
              "            style=\"display:none;\">\n",
              "\n",
              "<svg xmlns=\"http://www.w3.org/2000/svg\" height=\"24px\"viewBox=\"0 0 24 24\"\n",
              "     width=\"24px\">\n",
              "    <g>\n",
              "        <path d=\"M19 3H5c-1.1 0-2 .9-2 2v14c0 1.1.9 2 2 2h14c1.1 0 2-.9 2-2V5c0-1.1-.9-2-2-2zM9 17H7v-7h2v7zm4 0h-2V7h2v10zm4 0h-2v-4h2v4z\"/>\n",
              "    </g>\n",
              "</svg>\n",
              "  </button>\n",
              "\n",
              "<style>\n",
              "  .colab-df-quickchart {\n",
              "      --bg-color: #E8F0FE;\n",
              "      --fill-color: #1967D2;\n",
              "      --hover-bg-color: #E2EBFA;\n",
              "      --hover-fill-color: #174EA6;\n",
              "      --disabled-fill-color: #AAA;\n",
              "      --disabled-bg-color: #DDD;\n",
              "  }\n",
              "\n",
              "  [theme=dark] .colab-df-quickchart {\n",
              "      --bg-color: #3B4455;\n",
              "      --fill-color: #D2E3FC;\n",
              "      --hover-bg-color: #434B5C;\n",
              "      --hover-fill-color: #FFFFFF;\n",
              "      --disabled-bg-color: #3B4455;\n",
              "      --disabled-fill-color: #666;\n",
              "  }\n",
              "\n",
              "  .colab-df-quickchart {\n",
              "    background-color: var(--bg-color);\n",
              "    border: none;\n",
              "    border-radius: 50%;\n",
              "    cursor: pointer;\n",
              "    display: none;\n",
              "    fill: var(--fill-color);\n",
              "    height: 32px;\n",
              "    padding: 0;\n",
              "    width: 32px;\n",
              "  }\n",
              "\n",
              "  .colab-df-quickchart:hover {\n",
              "    background-color: var(--hover-bg-color);\n",
              "    box-shadow: 0 1px 2px rgba(60, 64, 67, 0.3), 0 1px 3px 1px rgba(60, 64, 67, 0.15);\n",
              "    fill: var(--button-hover-fill-color);\n",
              "  }\n",
              "\n",
              "  .colab-df-quickchart-complete:disabled,\n",
              "  .colab-df-quickchart-complete:disabled:hover {\n",
              "    background-color: var(--disabled-bg-color);\n",
              "    fill: var(--disabled-fill-color);\n",
              "    box-shadow: none;\n",
              "  }\n",
              "\n",
              "  .colab-df-spinner {\n",
              "    border: 2px solid var(--fill-color);\n",
              "    border-color: transparent;\n",
              "    border-bottom-color: var(--fill-color);\n",
              "    animation:\n",
              "      spin 1s steps(1) infinite;\n",
              "  }\n",
              "\n",
              "  @keyframes spin {\n",
              "    0% {\n",
              "      border-color: transparent;\n",
              "      border-bottom-color: var(--fill-color);\n",
              "      border-left-color: var(--fill-color);\n",
              "    }\n",
              "    20% {\n",
              "      border-color: transparent;\n",
              "      border-left-color: var(--fill-color);\n",
              "      border-top-color: var(--fill-color);\n",
              "    }\n",
              "    30% {\n",
              "      border-color: transparent;\n",
              "      border-left-color: var(--fill-color);\n",
              "      border-top-color: var(--fill-color);\n",
              "      border-right-color: var(--fill-color);\n",
              "    }\n",
              "    40% {\n",
              "      border-color: transparent;\n",
              "      border-right-color: var(--fill-color);\n",
              "      border-top-color: var(--fill-color);\n",
              "    }\n",
              "    60% {\n",
              "      border-color: transparent;\n",
              "      border-right-color: var(--fill-color);\n",
              "    }\n",
              "    80% {\n",
              "      border-color: transparent;\n",
              "      border-right-color: var(--fill-color);\n",
              "      border-bottom-color: var(--fill-color);\n",
              "    }\n",
              "    90% {\n",
              "      border-color: transparent;\n",
              "      border-bottom-color: var(--fill-color);\n",
              "    }\n",
              "  }\n",
              "</style>\n",
              "\n",
              "  <script>\n",
              "    async function quickchart(key) {\n",
              "      const quickchartButtonEl =\n",
              "        document.querySelector('#' + key + ' button');\n",
              "      quickchartButtonEl.disabled = true;  // To prevent multiple clicks.\n",
              "      quickchartButtonEl.classList.add('colab-df-spinner');\n",
              "      try {\n",
              "        const charts = await google.colab.kernel.invokeFunction(\n",
              "            'suggestCharts', [key], {});\n",
              "      } catch (error) {\n",
              "        console.error('Error during call to suggestCharts:', error);\n",
              "      }\n",
              "      quickchartButtonEl.classList.remove('colab-df-spinner');\n",
              "      quickchartButtonEl.classList.add('colab-df-quickchart-complete');\n",
              "    }\n",
              "    (() => {\n",
              "      let quickchartButtonEl =\n",
              "        document.querySelector('#df-1d663a1e-43eb-4ef2-b7ec-9b73521871b6 button');\n",
              "      quickchartButtonEl.style.display =\n",
              "        google.colab.kernel.accessAllowed ? 'block' : 'none';\n",
              "    })();\n",
              "  </script>\n",
              "</div>\n",
              "\n",
              "    </div>\n",
              "  </div>\n"
            ]
          },
          "metadata": {},
          "execution_count": 149
        }
      ]
    },
    {
      "cell_type": "code",
      "source": [
        "df = df.drop('Id', axis=1)\n",
        "print(df)"
      ],
      "metadata": {
        "colab": {
          "base_uri": "https://localhost:8080/"
        },
        "id": "SvA52H_s3B1b",
        "outputId": "b0fb33de-2d15-4583-c295-ff58fbd01e3f"
      },
      "execution_count": 150,
      "outputs": [
        {
          "output_type": "stream",
          "name": "stdout",
          "text": [
            "     SepalLengthCm  SepalWidthCm  PetalLengthCm  PetalWidthCm         Species\n",
            "0              5.1           3.5            1.4           0.2     Iris-setosa\n",
            "1              4.9           3.0            1.4           0.2     Iris-setosa\n",
            "2              4.7           3.2            1.3           0.2     Iris-setosa\n",
            "3              4.6           3.1            1.5           0.2     Iris-setosa\n",
            "4              5.0           3.6            1.4           0.2     Iris-setosa\n",
            "..             ...           ...            ...           ...             ...\n",
            "145            6.7           3.0            5.2           2.3  Iris-virginica\n",
            "146            6.3           2.5            5.0           1.9  Iris-virginica\n",
            "147            6.5           3.0            5.2           2.0  Iris-virginica\n",
            "148            6.2           3.4            5.4           2.3  Iris-virginica\n",
            "149            5.9           3.0            5.1           1.8  Iris-virginica\n",
            "\n",
            "[150 rows x 5 columns]\n"
          ]
        }
      ]
    },
    {
      "cell_type": "code",
      "source": [
        "X = df.iloc[:,0:4].values\n",
        "y = df.iloc[:,4].values"
      ],
      "metadata": {
        "id": "QeabHI7yvrp7"
      },
      "execution_count": 151,
      "outputs": []
    },
    {
      "cell_type": "code",
      "source": [
        "\n",
        "print(X[0:5])\n",
        "print(y[0:5])\n"
      ],
      "metadata": {
        "colab": {
          "base_uri": "https://localhost:8080/"
        },
        "id": "BheKIY4Yv2GA",
        "outputId": "877e3204-b4f3-43ce-cb5d-005fef539109"
      },
      "execution_count": 152,
      "outputs": [
        {
          "output_type": "stream",
          "name": "stdout",
          "text": [
            "[[5.1 3.5 1.4 0.2]\n",
            " [4.9 3.  1.4 0.2]\n",
            " [4.7 3.2 1.3 0.2]\n",
            " [4.6 3.1 1.5 0.2]\n",
            " [5.  3.6 1.4 0.2]]\n",
            "['Iris-setosa' 'Iris-setosa' 'Iris-setosa' 'Iris-setosa' 'Iris-setosa']\n"
          ]
        }
      ]
    },
    {
      "cell_type": "code",
      "source": [
        "print(X.shape)\n",
        "print(y.shape)"
      ],
      "metadata": {
        "colab": {
          "base_uri": "https://localhost:8080/"
        },
        "id": "FRQvtjXzv6f4",
        "outputId": "ae2d092c-3c1d-4aee-a6f8-e3a68b8f11a5"
      },
      "execution_count": 153,
      "outputs": [
        {
          "output_type": "stream",
          "name": "stdout",
          "text": [
            "(150, 4)\n",
            "(150,)\n"
          ]
        }
      ]
    },
    {
      "cell_type": "code",
      "source": [
        "from sklearn.preprocessing import LabelEncoder\n",
        "encoder =  LabelEncoder()\n",
        "y1 = encoder.fit_transform(y)"
      ],
      "metadata": {
        "id": "AcZcX67Wv-K4"
      },
      "execution_count": 154,
      "outputs": []
    },
    {
      "cell_type": "code",
      "source": [
        "print(y1)"
      ],
      "metadata": {
        "colab": {
          "base_uri": "https://localhost:8080/"
        },
        "id": "mwkFKGlFwAt-",
        "outputId": "2c7d298a-9157-41b7-a65e-c7c0ada1c1b8"
      },
      "execution_count": 155,
      "outputs": [
        {
          "output_type": "stream",
          "name": "stdout",
          "text": [
            "[0 0 0 0 0 0 0 0 0 0 0 0 0 0 0 0 0 0 0 0 0 0 0 0 0 0 0 0 0 0 0 0 0 0 0 0 0\n",
            " 0 0 0 0 0 0 0 0 0 0 0 0 0 1 1 1 1 1 1 1 1 1 1 1 1 1 1 1 1 1 1 1 1 1 1 1 1\n",
            " 1 1 1 1 1 1 1 1 1 1 1 1 1 1 1 1 1 1 1 1 1 1 1 1 1 1 2 2 2 2 2 2 2 2 2 2 2\n",
            " 2 2 2 2 2 2 2 2 2 2 2 2 2 2 2 2 2 2 2 2 2 2 2 2 2 2 2 2 2 2 2 2 2 2 2 2 2\n",
            " 2 2]\n"
          ]
        }
      ]
    },
    {
      "cell_type": "code",
      "source": [
        "Y = pd.get_dummies(y1).values\n",
        "print(Y[0:5])"
      ],
      "metadata": {
        "colab": {
          "base_uri": "https://localhost:8080/"
        },
        "id": "C27uDquvwDDe",
        "outputId": "96ebf766-62c0-4f3c-e536-0045b9ce0e3e"
      },
      "execution_count": 156,
      "outputs": [
        {
          "output_type": "stream",
          "name": "stdout",
          "text": [
            "[[1 0 0]\n",
            " [1 0 0]\n",
            " [1 0 0]\n",
            " [1 0 0]\n",
            " [1 0 0]]\n"
          ]
        }
      ]
    },
    {
      "cell_type": "code",
      "source": [
        "from sklearn.model_selection import train_test_split"
      ],
      "metadata": {
        "id": "RfYKi2rMwOt3"
      },
      "execution_count": 157,
      "outputs": []
    },
    {
      "cell_type": "code",
      "source": [
        "X_train, X_test, y_train, y_test = train_test_split(X, Y, test_size=0.2, random_state=0)"
      ],
      "metadata": {
        "id": "Rve97IH2wRqP"
      },
      "execution_count": 158,
      "outputs": []
    },
    {
      "cell_type": "code",
      "source": [
        "print(X_train[0:5])"
      ],
      "metadata": {
        "colab": {
          "base_uri": "https://localhost:8080/"
        },
        "id": "yn0UE5LlwU1B",
        "outputId": "c7ed5295-bb24-4e5f-a2a0-df9d65a96cc6"
      },
      "execution_count": 159,
      "outputs": [
        {
          "output_type": "stream",
          "name": "stdout",
          "text": [
            "[[6.4 3.1 5.5 1.8]\n",
            " [5.4 3.  4.5 1.5]\n",
            " [5.2 3.5 1.5 0.2]\n",
            " [6.1 3.  4.9 1.8]\n",
            " [6.4 2.8 5.6 2.2]]\n"
          ]
        }
      ]
    },
    {
      "cell_type": "code",
      "source": [
        "print(y_train[0:5])"
      ],
      "metadata": {
        "colab": {
          "base_uri": "https://localhost:8080/"
        },
        "id": "WdmiWyjKwlrj",
        "outputId": "f25f4370-425b-4e12-85f0-ea4dfe7cbe70"
      },
      "execution_count": 160,
      "outputs": [
        {
          "output_type": "stream",
          "name": "stdout",
          "text": [
            "[[0 0 1]\n",
            " [0 1 0]\n",
            " [1 0 0]\n",
            " [0 0 1]\n",
            " [0 0 1]]\n"
          ]
        }
      ]
    },
    {
      "cell_type": "code",
      "source": [
        "print(X_test[0:5])"
      ],
      "metadata": {
        "colab": {
          "base_uri": "https://localhost:8080/"
        },
        "id": "5UpqMOWQwXhP",
        "outputId": "af5b62f8-1b9a-47b6-cb78-ed8007e61b0b"
      },
      "execution_count": 161,
      "outputs": [
        {
          "output_type": "stream",
          "name": "stdout",
          "text": [
            "[[5.8 2.8 5.1 2.4]\n",
            " [6.  2.2 4.  1. ]\n",
            " [5.5 4.2 1.4 0.2]\n",
            " [7.3 2.9 6.3 1.8]\n",
            " [5.  3.4 1.5 0.2]]\n"
          ]
        }
      ]
    },
    {
      "cell_type": "code",
      "source": [
        "print(y_test[0:5])"
      ],
      "metadata": {
        "colab": {
          "base_uri": "https://localhost:8080/"
        },
        "id": "GRYky2XJwbNm",
        "outputId": "43236b59-25f4-432d-e787-5ca9a9ab1c9b"
      },
      "execution_count": 162,
      "outputs": [
        {
          "output_type": "stream",
          "name": "stdout",
          "text": [
            "[[0 0 1]\n",
            " [0 1 0]\n",
            " [1 0 0]\n",
            " [0 0 1]\n",
            " [1 0 0]]\n"
          ]
        }
      ]
    },
    {
      "cell_type": "code",
      "source": [
        "from sklearn.preprocessing import LabelEncoder\n",
        "encoder =  LabelEncoder()\n",
        "y1 = encoder.fit_transform(y)"
      ],
      "metadata": {
        "id": "OLd0kV2C3QgH"
      },
      "execution_count": 163,
      "outputs": []
    },
    {
      "cell_type": "code",
      "source": [
        "print(y1)"
      ],
      "metadata": {
        "colab": {
          "base_uri": "https://localhost:8080/"
        },
        "id": "c9sj7N_B3V3I",
        "outputId": "f3f34744-cb40-4b4d-d6f8-10fc230a258b"
      },
      "execution_count": 164,
      "outputs": [
        {
          "output_type": "stream",
          "name": "stdout",
          "text": [
            "[0 0 0 0 0 0 0 0 0 0 0 0 0 0 0 0 0 0 0 0 0 0 0 0 0 0 0 0 0 0 0 0 0 0 0 0 0\n",
            " 0 0 0 0 0 0 0 0 0 0 0 0 0 1 1 1 1 1 1 1 1 1 1 1 1 1 1 1 1 1 1 1 1 1 1 1 1\n",
            " 1 1 1 1 1 1 1 1 1 1 1 1 1 1 1 1 1 1 1 1 1 1 1 1 1 1 2 2 2 2 2 2 2 2 2 2 2\n",
            " 2 2 2 2 2 2 2 2 2 2 2 2 2 2 2 2 2 2 2 2 2 2 2 2 2 2 2 2 2 2 2 2 2 2 2 2 2\n",
            " 2 2]\n"
          ]
        }
      ]
    },
    {
      "cell_type": "code",
      "source": [
        "print(y1)"
      ],
      "metadata": {
        "colab": {
          "base_uri": "https://localhost:8080/"
        },
        "id": "EHEJqePT3Yl6",
        "outputId": "74a8874f-3647-4fc1-86bc-4ceeb02081a3"
      },
      "execution_count": 165,
      "outputs": [
        {
          "output_type": "stream",
          "name": "stdout",
          "text": [
            "[0 0 0 0 0 0 0 0 0 0 0 0 0 0 0 0 0 0 0 0 0 0 0 0 0 0 0 0 0 0 0 0 0 0 0 0 0\n",
            " 0 0 0 0 0 0 0 0 0 0 0 0 0 1 1 1 1 1 1 1 1 1 1 1 1 1 1 1 1 1 1 1 1 1 1 1 1\n",
            " 1 1 1 1 1 1 1 1 1 1 1 1 1 1 1 1 1 1 1 1 1 1 1 1 1 1 2 2 2 2 2 2 2 2 2 2 2\n",
            " 2 2 2 2 2 2 2 2 2 2 2 2 2 2 2 2 2 2 2 2 2 2 2 2 2 2 2 2 2 2 2 2 2 2 2 2 2\n",
            " 2 2]\n"
          ]
        }
      ]
    },
    {
      "cell_type": "code",
      "source": [
        "from sklearn.model_selection import train_test_split"
      ],
      "metadata": {
        "id": "jlDPXY3U3bUX"
      },
      "execution_count": 166,
      "outputs": []
    },
    {
      "cell_type": "code",
      "source": [
        "X_train, X_test, y_train, y_test = train_test_split(X, Y, test_size=0.2, random_state=0)\n"
      ],
      "metadata": {
        "id": "AQyNOh0f3eGP"
      },
      "execution_count": 167,
      "outputs": []
    },
    {
      "cell_type": "code",
      "source": [
        "print(X_train[0:5])"
      ],
      "metadata": {
        "colab": {
          "base_uri": "https://localhost:8080/"
        },
        "id": "Cnsa0fVz3hDL",
        "outputId": "991de093-fe14-4bc4-c056-cd8015d2a786"
      },
      "execution_count": 168,
      "outputs": [
        {
          "output_type": "stream",
          "name": "stdout",
          "text": [
            "[[6.4 3.1 5.5 1.8]\n",
            " [5.4 3.  4.5 1.5]\n",
            " [5.2 3.5 1.5 0.2]\n",
            " [6.1 3.  4.9 1.8]\n",
            " [6.4 2.8 5.6 2.2]]\n"
          ]
        }
      ]
    },
    {
      "cell_type": "code",
      "source": [
        "print(y_train[0:5])"
      ],
      "metadata": {
        "colab": {
          "base_uri": "https://localhost:8080/"
        },
        "id": "P-8P0p3r3jeS",
        "outputId": "b8a2c5cc-deba-4904-bb8f-2878acc7aa6c"
      },
      "execution_count": 169,
      "outputs": [
        {
          "output_type": "stream",
          "name": "stdout",
          "text": [
            "[[0 0 1]\n",
            " [0 1 0]\n",
            " [1 0 0]\n",
            " [0 0 1]\n",
            " [0 0 1]]\n"
          ]
        }
      ]
    },
    {
      "cell_type": "code",
      "source": [
        "print(X_test[0:5])"
      ],
      "metadata": {
        "colab": {
          "base_uri": "https://localhost:8080/"
        },
        "id": "_el4ruFL3mbY",
        "outputId": "1b0fae19-4110-49ef-9dab-3b2f9c6d742e"
      },
      "execution_count": 170,
      "outputs": [
        {
          "output_type": "stream",
          "name": "stdout",
          "text": [
            "[[5.8 2.8 5.1 2.4]\n",
            " [6.  2.2 4.  1. ]\n",
            " [5.5 4.2 1.4 0.2]\n",
            " [7.3 2.9 6.3 1.8]\n",
            " [5.  3.4 1.5 0.2]]\n"
          ]
        }
      ]
    },
    {
      "cell_type": "code",
      "source": [
        "print(y_test[0:5])"
      ],
      "metadata": {
        "colab": {
          "base_uri": "https://localhost:8080/"
        },
        "id": "LawXiIJ33pQ7",
        "outputId": "5ec2434f-ff94-407e-d72e-4a72d6ff05ed"
      },
      "execution_count": 171,
      "outputs": [
        {
          "output_type": "stream",
          "name": "stdout",
          "text": [
            "[[0 0 1]\n",
            " [0 1 0]\n",
            " [1 0 0]\n",
            " [0 0 1]\n",
            " [1 0 0]]\n"
          ]
        }
      ]
    },
    {
      "cell_type": "code",
      "source": [
        "model = tf.keras.Sequential([\n",
        "    tf.keras.layers.Dense(10, activation='relu'),\n",
        "    tf.keras.layers.Dense(10, activation='relu'),\n",
        "    tf.keras.layers.Dense(3, activation='softmax')\n",
        "  ])\n",
        "model"
      ],
      "metadata": {
        "colab": {
          "base_uri": "https://localhost:8080/"
        },
        "id": "6eW_Cm0_3via",
        "outputId": "ab25dd20-ded1-4b8b-c651-febad9e3726a"
      },
      "execution_count": 172,
      "outputs": [
        {
          "output_type": "execute_result",
          "data": {
            "text/plain": [
              "<keras.src.engine.sequential.Sequential at 0x7e06923067a0>"
            ]
          },
          "metadata": {},
          "execution_count": 172
        }
      ]
    },
    {
      "cell_type": "code",
      "source": [
        "model.compile(optimizer='rmsprop',\n",
        "              loss='categorical_crossentropy',\n",
        "              metrics=['accuracy'])\n"
      ],
      "metadata": {
        "id": "8pSW-ith3zDs"
      },
      "execution_count": 173,
      "outputs": []
    },
    {
      "cell_type": "code",
      "source": [
        "model.fit(X_train, y_train, batch_size=50, epochs=100)"
      ],
      "metadata": {
        "colab": {
          "base_uri": "https://localhost:8080/"
        },
        "id": "RWMWdjoJ37gO",
        "outputId": "7e755a58-0a89-4d72-f828-1a783dec0573"
      },
      "execution_count": 174,
      "outputs": [
        {
          "output_type": "stream",
          "name": "stdout",
          "text": [
            "Epoch 1/100\n",
            "3/3 [==============================] - 1s 5ms/step - loss: 1.3816 - accuracy: 0.6083\n",
            "Epoch 2/100\n",
            "3/3 [==============================] - 0s 6ms/step - loss: 1.3174 - accuracy: 0.5917\n",
            "Epoch 3/100\n",
            "3/3 [==============================] - 0s 5ms/step - loss: 1.2779 - accuracy: 0.5500\n",
            "Epoch 4/100\n",
            "3/3 [==============================] - 0s 5ms/step - loss: 1.2497 - accuracy: 0.4917\n",
            "Epoch 5/100\n",
            "3/3 [==============================] - 0s 4ms/step - loss: 1.2232 - accuracy: 0.5000\n",
            "Epoch 6/100\n",
            "3/3 [==============================] - 0s 4ms/step - loss: 1.1987 - accuracy: 0.4917\n",
            "Epoch 7/100\n",
            "3/3 [==============================] - 0s 5ms/step - loss: 1.1809 - accuracy: 0.5000\n",
            "Epoch 8/100\n",
            "3/3 [==============================] - 0s 5ms/step - loss: 1.1625 - accuracy: 0.4833\n",
            "Epoch 9/100\n",
            "3/3 [==============================] - 0s 5ms/step - loss: 1.1458 - accuracy: 0.4917\n",
            "Epoch 10/100\n",
            "3/3 [==============================] - 0s 5ms/step - loss: 1.1300 - accuracy: 0.4917\n",
            "Epoch 11/100\n",
            "3/3 [==============================] - 0s 5ms/step - loss: 1.1159 - accuracy: 0.4750\n",
            "Epoch 12/100\n",
            "3/3 [==============================] - 0s 5ms/step - loss: 1.1020 - accuracy: 0.4583\n",
            "Epoch 13/100\n",
            "3/3 [==============================] - 0s 5ms/step - loss: 1.0902 - accuracy: 0.4500\n",
            "Epoch 14/100\n",
            "3/3 [==============================] - 0s 4ms/step - loss: 1.0764 - accuracy: 0.4750\n",
            "Epoch 15/100\n",
            "3/3 [==============================] - 0s 5ms/step - loss: 1.0638 - accuracy: 0.4833\n",
            "Epoch 16/100\n",
            "3/3 [==============================] - 0s 6ms/step - loss: 1.0515 - accuracy: 0.4750\n",
            "Epoch 17/100\n",
            "3/3 [==============================] - 0s 5ms/step - loss: 1.0405 - accuracy: 0.4750\n",
            "Epoch 18/100\n",
            "3/3 [==============================] - 0s 7ms/step - loss: 1.0293 - accuracy: 0.4750\n",
            "Epoch 19/100\n",
            "3/3 [==============================] - 0s 5ms/step - loss: 1.0203 - accuracy: 0.4833\n",
            "Epoch 20/100\n",
            "3/3 [==============================] - 0s 4ms/step - loss: 1.0105 - accuracy: 0.4917\n",
            "Epoch 21/100\n",
            "3/3 [==============================] - 0s 5ms/step - loss: 1.0010 - accuracy: 0.4750\n",
            "Epoch 22/100\n",
            "3/3 [==============================] - 0s 5ms/step - loss: 0.9922 - accuracy: 0.5333\n",
            "Epoch 23/100\n",
            "3/3 [==============================] - 0s 4ms/step - loss: 0.9837 - accuracy: 0.4917\n",
            "Epoch 24/100\n",
            "3/3 [==============================] - 0s 5ms/step - loss: 0.9762 - accuracy: 0.5417\n",
            "Epoch 25/100\n",
            "3/3 [==============================] - 0s 5ms/step - loss: 0.9677 - accuracy: 0.5417\n",
            "Epoch 26/100\n",
            "3/3 [==============================] - 0s 4ms/step - loss: 0.9590 - accuracy: 0.5833\n",
            "Epoch 27/100\n",
            "3/3 [==============================] - 0s 4ms/step - loss: 0.9507 - accuracy: 0.6000\n",
            "Epoch 28/100\n",
            "3/3 [==============================] - 0s 4ms/step - loss: 0.9427 - accuracy: 0.6167\n",
            "Epoch 29/100\n",
            "3/3 [==============================] - 0s 5ms/step - loss: 0.9352 - accuracy: 0.6500\n",
            "Epoch 30/100\n",
            "3/3 [==============================] - 0s 5ms/step - loss: 0.9267 - accuracy: 0.6083\n",
            "Epoch 31/100\n",
            "3/3 [==============================] - 0s 5ms/step - loss: 0.9192 - accuracy: 0.6250\n",
            "Epoch 32/100\n",
            "3/3 [==============================] - 0s 7ms/step - loss: 0.9119 - accuracy: 0.6583\n",
            "Epoch 33/100\n",
            "3/3 [==============================] - 0s 9ms/step - loss: 0.9037 - accuracy: 0.6583\n",
            "Epoch 34/100\n",
            "3/3 [==============================] - 0s 6ms/step - loss: 0.8966 - accuracy: 0.6750\n",
            "Epoch 35/100\n",
            "3/3 [==============================] - 0s 6ms/step - loss: 0.8888 - accuracy: 0.6750\n",
            "Epoch 36/100\n",
            "3/3 [==============================] - 0s 6ms/step - loss: 0.8809 - accuracy: 0.6833\n",
            "Epoch 37/100\n",
            "3/3 [==============================] - 0s 6ms/step - loss: 0.8740 - accuracy: 0.7167\n",
            "Epoch 38/100\n",
            "3/3 [==============================] - 0s 5ms/step - loss: 0.8664 - accuracy: 0.7083\n",
            "Epoch 39/100\n",
            "3/3 [==============================] - 0s 5ms/step - loss: 0.8594 - accuracy: 0.7000\n",
            "Epoch 40/100\n",
            "3/3 [==============================] - 0s 6ms/step - loss: 0.8517 - accuracy: 0.7333\n",
            "Epoch 41/100\n",
            "3/3 [==============================] - 0s 5ms/step - loss: 0.8443 - accuracy: 0.7250\n",
            "Epoch 42/100\n",
            "3/3 [==============================] - 0s 5ms/step - loss: 0.8371 - accuracy: 0.7417\n",
            "Epoch 43/100\n",
            "3/3 [==============================] - 0s 7ms/step - loss: 0.8291 - accuracy: 0.7500\n",
            "Epoch 44/100\n",
            "3/3 [==============================] - 0s 7ms/step - loss: 0.8222 - accuracy: 0.7500\n",
            "Epoch 45/100\n",
            "3/3 [==============================] - 0s 5ms/step - loss: 0.8137 - accuracy: 0.7750\n",
            "Epoch 46/100\n",
            "3/3 [==============================] - 0s 9ms/step - loss: 0.8070 - accuracy: 0.7667\n",
            "Epoch 47/100\n",
            "3/3 [==============================] - 0s 6ms/step - loss: 0.7989 - accuracy: 0.7667\n",
            "Epoch 48/100\n",
            "3/3 [==============================] - 0s 5ms/step - loss: 0.7912 - accuracy: 0.7833\n",
            "Epoch 49/100\n",
            "3/3 [==============================] - 0s 5ms/step - loss: 0.7842 - accuracy: 0.7917\n",
            "Epoch 50/100\n",
            "3/3 [==============================] - 0s 6ms/step - loss: 0.7774 - accuracy: 0.7833\n",
            "Epoch 51/100\n",
            "3/3 [==============================] - 0s 5ms/step - loss: 0.7696 - accuracy: 0.7917\n",
            "Epoch 52/100\n",
            "3/3 [==============================] - 0s 5ms/step - loss: 0.7618 - accuracy: 0.8000\n",
            "Epoch 53/100\n",
            "3/3 [==============================] - 0s 5ms/step - loss: 0.7563 - accuracy: 0.7667\n",
            "Epoch 54/100\n",
            "3/3 [==============================] - 0s 5ms/step - loss: 0.7480 - accuracy: 0.8000\n",
            "Epoch 55/100\n",
            "3/3 [==============================] - 0s 6ms/step - loss: 0.7409 - accuracy: 0.8000\n",
            "Epoch 56/100\n",
            "3/3 [==============================] - 0s 7ms/step - loss: 0.7340 - accuracy: 0.7833\n",
            "Epoch 57/100\n",
            "3/3 [==============================] - 0s 9ms/step - loss: 0.7266 - accuracy: 0.8000\n",
            "Epoch 58/100\n",
            "3/3 [==============================] - 0s 7ms/step - loss: 0.7198 - accuracy: 0.7250\n",
            "Epoch 59/100\n",
            "3/3 [==============================] - 0s 5ms/step - loss: 0.7121 - accuracy: 0.8083\n",
            "Epoch 60/100\n",
            "3/3 [==============================] - 0s 6ms/step - loss: 0.7054 - accuracy: 0.8083\n",
            "Epoch 61/100\n",
            "3/3 [==============================] - 0s 6ms/step - loss: 0.6987 - accuracy: 0.8083\n",
            "Epoch 62/100\n",
            "3/3 [==============================] - 0s 6ms/step - loss: 0.6911 - accuracy: 0.8000\n",
            "Epoch 63/100\n",
            "3/3 [==============================] - 0s 6ms/step - loss: 0.6843 - accuracy: 0.8000\n",
            "Epoch 64/100\n",
            "3/3 [==============================] - 0s 6ms/step - loss: 0.6776 - accuracy: 0.8083\n",
            "Epoch 65/100\n",
            "3/3 [==============================] - 0s 7ms/step - loss: 0.6700 - accuracy: 0.8167\n",
            "Epoch 66/100\n",
            "3/3 [==============================] - 0s 5ms/step - loss: 0.6631 - accuracy: 0.8167\n",
            "Epoch 67/100\n",
            "3/3 [==============================] - 0s 6ms/step - loss: 0.6579 - accuracy: 0.8083\n",
            "Epoch 68/100\n",
            "3/3 [==============================] - 0s 5ms/step - loss: 0.6499 - accuracy: 0.8417\n",
            "Epoch 69/100\n",
            "3/3 [==============================] - 0s 5ms/step - loss: 0.6426 - accuracy: 0.8250\n",
            "Epoch 70/100\n",
            "3/3 [==============================] - 0s 5ms/step - loss: 0.6352 - accuracy: 0.8167\n",
            "Epoch 71/100\n",
            "3/3 [==============================] - 0s 6ms/step - loss: 0.6290 - accuracy: 0.8167\n",
            "Epoch 72/100\n",
            "3/3 [==============================] - 0s 5ms/step - loss: 0.6224 - accuracy: 0.8333\n",
            "Epoch 73/100\n",
            "3/3 [==============================] - 0s 5ms/step - loss: 0.6147 - accuracy: 0.8333\n",
            "Epoch 74/100\n",
            "3/3 [==============================] - 0s 5ms/step - loss: 0.6085 - accuracy: 0.8333\n",
            "Epoch 75/100\n",
            "3/3 [==============================] - 0s 5ms/step - loss: 0.6026 - accuracy: 0.8417\n",
            "Epoch 76/100\n",
            "3/3 [==============================] - 0s 6ms/step - loss: 0.5956 - accuracy: 0.8417\n",
            "Epoch 77/100\n",
            "3/3 [==============================] - 0s 6ms/step - loss: 0.5902 - accuracy: 0.8500\n",
            "Epoch 78/100\n",
            "3/3 [==============================] - 0s 5ms/step - loss: 0.5845 - accuracy: 0.7833\n",
            "Epoch 79/100\n",
            "3/3 [==============================] - 0s 5ms/step - loss: 0.5785 - accuracy: 0.8583\n",
            "Epoch 80/100\n",
            "3/3 [==============================] - 0s 6ms/step - loss: 0.5727 - accuracy: 0.8583\n",
            "Epoch 81/100\n",
            "3/3 [==============================] - 0s 5ms/step - loss: 0.5670 - accuracy: 0.8667\n",
            "Epoch 82/100\n",
            "3/3 [==============================] - 0s 6ms/step - loss: 0.5612 - accuracy: 0.8667\n",
            "Epoch 83/100\n",
            "3/3 [==============================] - 0s 5ms/step - loss: 0.5550 - accuracy: 0.8667\n",
            "Epoch 84/100\n",
            "3/3 [==============================] - 0s 7ms/step - loss: 0.5491 - accuracy: 0.8667\n",
            "Epoch 85/100\n",
            "3/3 [==============================] - 0s 5ms/step - loss: 0.5437 - accuracy: 0.8833\n",
            "Epoch 86/100\n",
            "3/3 [==============================] - 0s 6ms/step - loss: 0.5393 - accuracy: 0.8583\n",
            "Epoch 87/100\n",
            "3/3 [==============================] - 0s 5ms/step - loss: 0.5329 - accuracy: 0.8833\n",
            "Epoch 88/100\n",
            "3/3 [==============================] - 0s 5ms/step - loss: 0.5276 - accuracy: 0.8750\n",
            "Epoch 89/100\n",
            "3/3 [==============================] - 0s 5ms/step - loss: 0.5226 - accuracy: 0.8833\n",
            "Epoch 90/100\n",
            "3/3 [==============================] - 0s 5ms/step - loss: 0.5172 - accuracy: 0.8917\n",
            "Epoch 91/100\n",
            "3/3 [==============================] - 0s 5ms/step - loss: 0.5128 - accuracy: 0.8750\n",
            "Epoch 92/100\n",
            "3/3 [==============================] - 0s 5ms/step - loss: 0.5081 - accuracy: 0.8917\n",
            "Epoch 93/100\n",
            "3/3 [==============================] - 0s 6ms/step - loss: 0.5035 - accuracy: 0.8917\n",
            "Epoch 94/100\n",
            "3/3 [==============================] - 0s 6ms/step - loss: 0.4987 - accuracy: 0.9000\n",
            "Epoch 95/100\n",
            "3/3 [==============================] - 0s 9ms/step - loss: 0.4943 - accuracy: 0.8917\n",
            "Epoch 96/100\n",
            "3/3 [==============================] - 0s 5ms/step - loss: 0.4901 - accuracy: 0.9000\n",
            "Epoch 97/100\n",
            "3/3 [==============================] - 0s 6ms/step - loss: 0.4845 - accuracy: 0.9000\n",
            "Epoch 98/100\n",
            "3/3 [==============================] - 0s 5ms/step - loss: 0.4806 - accuracy: 0.9000\n",
            "Epoch 99/100\n",
            "3/3 [==============================] - 0s 5ms/step - loss: 0.4752 - accuracy: 0.8917\n",
            "Epoch 100/100\n",
            "3/3 [==============================] - 0s 5ms/step - loss: 0.4706 - accuracy: 0.9000\n"
          ]
        },
        {
          "output_type": "execute_result",
          "data": {
            "text/plain": [
              "<keras.src.callbacks.History at 0x7e06923f2920>"
            ]
          },
          "metadata": {},
          "execution_count": 174
        }
      ]
    },
    {
      "cell_type": "code",
      "source": [
        "loss, accuracy = model.evaluate(X_test, y_test, verbose=0)\n",
        "print('Test loss:', loss)\n",
        "print('Test accuracy:', accuracy)"
      ],
      "metadata": {
        "colab": {
          "base_uri": "https://localhost:8080/"
        },
        "id": "wIXoodv53780",
        "outputId": "ca958df4-a1ca-46c4-d2b9-a0073eaefc1a"
      },
      "execution_count": 175,
      "outputs": [
        {
          "output_type": "stream",
          "name": "stdout",
          "text": [
            "Test loss: 0.4657140374183655\n",
            "Test accuracy: 0.9333333373069763\n"
          ]
        }
      ]
    },
    {
      "cell_type": "code",
      "source": [
        "y_pred = model.predict(X_test)\n",
        "y_pred"
      ],
      "metadata": {
        "colab": {
          "base_uri": "https://localhost:8080/"
        },
        "id": "r35IA_b-3_7x",
        "outputId": "33b0b2ff-3e45-4e40-e7da-55cad53ae240"
      },
      "execution_count": 176,
      "outputs": [
        {
          "output_type": "stream",
          "name": "stdout",
          "text": [
            "1/1 [==============================] - 0s 62ms/step\n"
          ]
        },
        {
          "output_type": "execute_result",
          "data": {
            "text/plain": [
              "array([[0.04828691, 0.34059826, 0.6111148 ],\n",
              "       [0.07897287, 0.48861054, 0.43241662],\n",
              "       [0.9770013 , 0.02062834, 0.00237041],\n",
              "       [0.02565796, 0.43831858, 0.5360234 ],\n",
              "       [0.92100406, 0.06658065, 0.01241525],\n",
              "       [0.03572834, 0.3407027 , 0.6235689 ],\n",
              "       [0.9417344 , 0.04854258, 0.00972308],\n",
              "       [0.09458247, 0.48080453, 0.42461306],\n",
              "       [0.06642688, 0.48010033, 0.4534728 ],\n",
              "       [0.1315556 , 0.46559438, 0.40284994],\n",
              "       [0.0407218 , 0.4910971 , 0.46818107],\n",
              "       [0.13234614, 0.475171  , 0.39248276],\n",
              "       [0.08454647, 0.52487326, 0.39058036],\n",
              "       [0.07102337, 0.44664505, 0.48233154],\n",
              "       [0.08499132, 0.48602036, 0.42898825],\n",
              "       [0.88432956, 0.0964123 , 0.01925797],\n",
              "       [0.0928489 , 0.45367435, 0.45347682],\n",
              "       [0.08808255, 0.4934108 , 0.41850665],\n",
              "       [0.8702569 , 0.10204453, 0.02769855],\n",
              "       [0.9653079 , 0.02946341, 0.00522873],\n",
              "       [0.04889818, 0.33958063, 0.6115212 ],\n",
              "       [0.11255943, 0.46218866, 0.4252519 ],\n",
              "       [0.8871938 , 0.09567229, 0.0171339 ],\n",
              "       [0.86265194, 0.10962719, 0.02772079],\n",
              "       [0.05453623, 0.37908414, 0.5663796 ],\n",
              "       [0.96397257, 0.03091135, 0.00511609],\n",
              "       [0.929412  , 0.05991831, 0.01066961],\n",
              "       [0.11755213, 0.49104184, 0.391406  ],\n",
              "       [0.15648387, 0.45721114, 0.38630506],\n",
              "       [0.90620214, 0.07596414, 0.0178338 ]], dtype=float32)"
            ]
          },
          "metadata": {},
          "execution_count": 176
        }
      ]
    },
    {
      "cell_type": "code",
      "source": [
        "actual = np.argmax(y_test,axis=1)\n",
        "predicted = np.argmax(y_pred,axis=1)\n",
        "print(f\"Actual: {actual}\")\n",
        "print(f\"Predicted: {predicted}\")"
      ],
      "metadata": {
        "colab": {
          "base_uri": "https://localhost:8080/"
        },
        "id": "HJo4A2qB4C-6",
        "outputId": "c544d818-2e3d-46a1-fc21-904ff013a262"
      },
      "execution_count": 177,
      "outputs": [
        {
          "output_type": "stream",
          "name": "stdout",
          "text": [
            "Actual: [2 1 0 2 0 2 0 1 1 1 2 1 1 1 1 0 1 1 0 0 2 1 0 0 2 0 0 1 1 0]\n",
            "Predicted: [2 1 0 2 0 2 0 1 1 1 1 1 1 2 1 0 1 1 0 0 2 1 0 0 2 0 0 1 1 0]\n"
          ]
        }
      ]
    }
  ]
}